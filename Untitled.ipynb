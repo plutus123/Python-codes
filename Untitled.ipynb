{
 "cells": [
  {
   "cell_type": "code",
   "execution_count": null,
   "id": "c0779da2",
   "metadata": {},
   "outputs": [],
   "source": [
    "import matplotlib.pyplot as plt\n",
    "import numpy as np\n",
    "x=np.array([1678,2099,3754,4800,5420])\n",
    "y=np.array([1994,1996,1998,2000,2002])\n",
    "p=np.array([100,200,300,400,500])\n",
    "c=np.arange(1,6)\n",
    "plt.scatter(x,y,s=p,c=c,alpha=0.1,edgecolors='black',marker='^')\n",
    "plt.title(\"Bubble Graph\")\n",
    "plt.ylabel('y')\n",
    "plt.xlabel('x')\n",
    "plt.text(x[0]+0.1,y[0]+0.1,\"p[0]\")\n",
    "plt.text(x[1]+0.1,y[1]+0.1,\"p[1]\")\n",
    "plt.text(x[2]+0.1,y[2]+0.1,\"p[2]\")\n",
    "plt.text(x[3]+0.1,y[3]+0.1,\"p[3]\")\n",
    "plt.text(x[4]+0.1,y[4]+0.1,\"p[4]\")\n",
    "plt.text(x[5]+0.1,y[5]+0.1,\"p[5]\")\n",
    "plt.show()\n"
   ]
  },
  {
   "cell_type": "code",
   "execution_count": null,
   "id": "c159ea34",
   "metadata": {},
   "outputs": [],
   "source": []
  }
 ],
 "metadata": {
  "kernelspec": {
   "display_name": "Python 3 (ipykernel)",
   "language": "python",
   "name": "python3"
  },
  "language_info": {
   "codemirror_mode": {
    "name": "ipython",
    "version": 3
   },
   "file_extension": ".py",
   "mimetype": "text/x-python",
   "name": "python",
   "nbconvert_exporter": "python",
   "pygments_lexer": "ipython3",
   "version": "3.11.2"
  }
 },
 "nbformat": 4,
 "nbformat_minor": 5
}
