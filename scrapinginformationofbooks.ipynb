{
 "cells": [
  {
   "cell_type": "code",
   "execution_count": 4,
   "id": "9997afbb",
   "metadata": {},
   "outputs": [
    {
     "data": {
      "text/plain": [
       "<article class=\"product_pod\">\n",
       "<div class=\"image_container\">\n",
       "<a href=\"catalogue/a-light-in-the-attic_1000/index.html\"><img alt=\"A Light in the Attic\" class=\"thumbnail\" src=\"media/cache/2c/da/2cdad67c44b002e7ead0cc35693c0e8b.jpg\"/></a>\n",
       "</div>\n",
       "<p class=\"star-rating Three\">\n",
       "<i class=\"icon-star\"></i>\n",
       "<i class=\"icon-star\"></i>\n",
       "<i class=\"icon-star\"></i>\n",
       "<i class=\"icon-star\"></i>\n",
       "<i class=\"icon-star\"></i>\n",
       "</p>\n",
       "<h3><a href=\"catalogue/a-light-in-the-attic_1000/index.html\" title=\"A Light in the Attic\">A Light in the ...</a></h3>\n",
       "<div class=\"product_price\">\n",
       "<p class=\"price_color\">Â£51.77</p>\n",
       "<p class=\"instock availability\">\n",
       "<i class=\"icon-ok\"></i>\n",
       "    \n",
       "        In stock\n",
       "    \n",
       "</p>\n",
       "<form>\n",
       "<button class=\"btn btn-primary btn-block\" data-loading-text=\"Adding...\" type=\"submit\">Add to basket</button>\n",
       "</form>\n",
       "</div>\n",
       "</article>"
      ]
     },
     "execution_count": 4,
     "metadata": {},
     "output_type": "execute_result"
    }
   ],
   "source": [
    "import requests\n",
    "from bs4 import BeautifulSoup\n",
    "response=requests.get('http://books.toscrape.com/')\n",
    "data=BeautifulSoup(response.text,'html.parser')\n",
    "b1=data.find(class_='product_pod')\n",
    "b1"
   ]
  },
  {
   "cell_type": "code",
   "execution_count": 5,
   "id": "69424c50",
   "metadata": {},
   "outputs": [
    {
     "name": "stdout",
     "output_type": "stream",
     "text": [
      "http://books.toscrape.com/catalogue/a-light-in-the-attic_1000/index.html\n"
     ]
    }
   ],
   "source": [
    "base_url='http://books.toscrape.com/'\n",
    "b1_url=base_url+b1.h3.a['href']\n",
    "print(b1_url)"
   ]
  },
  {
   "cell_type": "code",
   "execution_count": 6,
   "id": "ce0fdae9",
   "metadata": {},
   "outputs": [
    {
     "data": {
      "text/plain": [
       "\n",
       "<!DOCTYPE html>\n",
       "\n",
       "<!--[if lt IE 7]>      <html lang=\"en-us\" class=\"no-js lt-ie9 lt-ie8 lt-ie7\"> <![endif]-->\n",
       "<!--[if IE 7]>         <html lang=\"en-us\" class=\"no-js lt-ie9 lt-ie8\"> <![endif]-->\n",
       "<!--[if IE 8]>         <html lang=\"en-us\" class=\"no-js lt-ie9\"> <![endif]-->\n",
       "<!--[if gt IE 8]><!--> <html class=\"no-js\" lang=\"en-us\"> <!--<![endif]-->\n",
       "<head>\n",
       "<title>\n",
       "    A Light in the Attic | Books to Scrape - Sandbox\n",
       "</title>\n",
       "<meta content=\"text/html; charset=utf-8\" http-equiv=\"content-type\"/>\n",
       "<meta content=\"24th Jun 2016 09:29\" name=\"created\"/>\n",
       "<meta content=\"\n",
       "    It's hard to imagine a world without A Light in the Attic. This now-classic collection of poetry and drawings from Shel Silverstein celebrates its 20th anniversary with this special edition. Silverstein's humorous and creative verse can amuse the dowdiest of readers. Lemon-faced adults and fidgety kids sit still and read these rhythmic words and laugh and smile and love th It's hard to imagine a world without A Light in the Attic. This now-classic collection of poetry and drawings from Shel Silverstein celebrates its 20th anniversary with this special edition. Silverstein's humorous and creative verse can amuse the dowdiest of readers. Lemon-faced adults and fidgety kids sit still and read these rhythmic words and laugh and smile and love that Silverstein. Need proof of his genius? RockabyeRockabye baby, in the treetopDon't you know a treetopIs no safe place to rock?And who put you up there,And your cradle, too?Baby, I think someone down here'sGot it in for you. Shel, you never sounded so good. ...more\n",
       "\" name=\"description\"/>\n",
       "<meta content=\"width=device-width\" name=\"viewport\"/>\n",
       "<meta content=\"NOARCHIVE,NOCACHE\" name=\"robots\"/>\n",
       "<!-- Le HTML5 shim, for IE6-8 support of HTML elements -->\n",
       "<!--[if lt IE 9]>\n",
       "        <script src=\"//html5shim.googlecode.com/svn/trunk/html5.js\"></script>\n",
       "        <![endif]-->\n",
       "<link href=\"../../static/oscar/favicon.ico\" rel=\"shortcut icon\"/>\n",
       "<link href=\"../../static/oscar/css/styles.css\" rel=\"stylesheet\" type=\"text/css\"/>\n",
       "<link href=\"../../static/oscar/js/bootstrap-datetimepicker/bootstrap-datetimepicker.css\" rel=\"stylesheet\"/>\n",
       "<link href=\"../../static/oscar/css/datetimepicker.css\" rel=\"stylesheet\" type=\"text/css\"/>\n",
       "</head>\n",
       "<body class=\"default\" id=\"default\">\n",
       "<header class=\"header container-fluid\">\n",
       "<div class=\"page_inner\">\n",
       "<div class=\"row\">\n",
       "<div class=\"col-sm-8 h1\"><a href=\"../../index.html\">Books to Scrape</a><small> We love being scraped!</small>\n",
       "</div>\n",
       "</div>\n",
       "</div>\n",
       "</header>\n",
       "<div class=\"container-fluid page\">\n",
       "<div class=\"page_inner\">\n",
       "<ul class=\"breadcrumb\">\n",
       "<li>\n",
       "<a href=\"../../index.html\">Home</a>\n",
       "</li>\n",
       "<li>\n",
       "<a href=\"../category/books_1/index.html\">Books</a>\n",
       "</li>\n",
       "<li>\n",
       "<a href=\"../category/books/poetry_23/index.html\">Poetry</a>\n",
       "</li>\n",
       "<li class=\"active\">A Light in the Attic</li>\n",
       "</ul>\n",
       "<div id=\"messages\">\n",
       "</div>\n",
       "<div class=\"content\">\n",
       "<div id=\"promotions\">\n",
       "</div>\n",
       "<div id=\"content_inner\">\n",
       "<article class=\"product_page\"><!-- Start of product page -->\n",
       "<div class=\"row\">\n",
       "<div class=\"col-sm-6\">\n",
       "<div class=\"carousel\" id=\"product_gallery\">\n",
       "<div class=\"thumbnail\">\n",
       "<div class=\"carousel-inner\">\n",
       "<div class=\"item active\">\n",
       "<img alt=\"A Light in the Attic\" src=\"../../media/cache/fe/72/fe72f0532301ec28892ae79a629a293c.jpg\"/>\n",
       "</div>\n",
       "</div>\n",
       "</div>\n",
       "</div>\n",
       "</div>\n",
       "<div class=\"col-sm-6 product_main\">\n",
       "<h1>A Light in the Attic</h1>\n",
       "<p class=\"price_color\">Â£51.77</p>\n",
       "<p class=\"instock availability\">\n",
       "<i class=\"icon-ok\"></i>\n",
       "    \n",
       "        In stock (22 available)\n",
       "    \n",
       "</p>\n",
       "<p class=\"star-rating Three\">\n",
       "<i class=\"icon-star\"></i>\n",
       "<i class=\"icon-star\"></i>\n",
       "<i class=\"icon-star\"></i>\n",
       "<i class=\"icon-star\"></i>\n",
       "<i class=\"icon-star\"></i>\n",
       "<!-- <small><a href=\"/catalogue/a-light-in-the-attic_1000/reviews/\">\n",
       "        \n",
       "                \n",
       "                    0 customer reviews\n",
       "                \n",
       "        </a></small>\n",
       "         --> \n",
       "\n",
       "\n",
       "<!-- \n",
       "    <a id=\"write_review\" href=\"/catalogue/a-light-in-the-attic_1000/reviews/add/#addreview\" class=\"btn btn-success btn-sm\">\n",
       "        Write a review\n",
       "    </a>\n",
       "\n",
       " --></p>\n",
       "<hr/>\n",
       "<div class=\"alert alert-warning\" role=\"alert\"><strong>Warning!</strong> This is a demo website for web scraping purposes. Prices and ratings here were randomly assigned and have no real meaning.</div>\n",
       "</div><!-- /col-sm-6 -->\n",
       "</div><!-- /row -->\n",
       "<div class=\"sub-header\" id=\"product_description\">\n",
       "<h2>Product Description</h2>\n",
       "</div>\n",
       "<p>It's hard to imagine a world without A Light in the Attic. This now-classic collection of poetry and drawings from Shel Silverstein celebrates its 20th anniversary with this special edition. Silverstein's humorous and creative verse can amuse the dowdiest of readers. Lemon-faced adults and fidgety kids sit still and read these rhythmic words and laugh and smile and love th It's hard to imagine a world without A Light in the Attic. This now-classic collection of poetry and drawings from Shel Silverstein celebrates its 20th anniversary with this special edition. Silverstein's humorous and creative verse can amuse the dowdiest of readers. Lemon-faced adults and fidgety kids sit still and read these rhythmic words and laugh and smile and love that Silverstein. Need proof of his genius? RockabyeRockabye baby, in the treetopDon't you know a treetopIs no safe place to rock?And who put you up there,And your cradle, too?Baby, I think someone down here'sGot it in for you. Shel, you never sounded so good. ...more</p>\n",
       "<div class=\"sub-header\">\n",
       "<h2>Product Information</h2>\n",
       "</div>\n",
       "<table class=\"table table-striped\">\n",
       "<tr>\n",
       "<th>UPC</th><td>a897fe39b1053632</td>\n",
       "</tr>\n",
       "<tr>\n",
       "<th>Product Type</th><td>Books</td>\n",
       "</tr>\n",
       "<tr>\n",
       "<th>Price (excl. tax)</th><td>Â£51.77</td>\n",
       "</tr>\n",
       "<tr>\n",
       "<th>Price (incl. tax)</th><td>Â£51.77</td>\n",
       "</tr>\n",
       "<tr>\n",
       "<th>Tax</th><td>Â£0.00</td>\n",
       "</tr>\n",
       "<tr>\n",
       "<th>Availability</th>\n",
       "<td>In stock (22 available)</td>\n",
       "</tr>\n",
       "<tr>\n",
       "<th>Number of reviews</th>\n",
       "<td>0</td>\n",
       "</tr>\n",
       "</table>\n",
       "<section>\n",
       "<div class=\"sub-header\" id=\"reviews\">\n",
       "</div>\n",
       "</section>\n",
       "</article><!-- End of product page -->\n",
       "</div>\n",
       "</div>\n",
       "</div>\n",
       "</div>\n",
       "<footer class=\"footer container-fluid\">\n",
       "</footer>\n",
       "<!-- jQuery -->\n",
       "<script src=\"http://ajax.googleapis.com/ajax/libs/jquery/1.9.1/jquery.min.js\"></script>\n",
       "<script>window.jQuery || document.write('<script src=\"../../static/oscar/js/jquery/jquery-1.9.1.min.js\"><\\/script>')</script>\n",
       "<!-- Twitter Bootstrap -->\n",
       "<script src=\"../../static/oscar/js/bootstrap3/bootstrap.min.js\" type=\"text/javascript\"></script>\n",
       "<!-- Oscar -->\n",
       "<script charset=\"utf-8\" src=\"../../static/oscar/js/oscar/ui.js\" type=\"text/javascript\"></script>\n",
       "<script charset=\"utf-8\" src=\"../../static/oscar/js/bootstrap-datetimepicker/bootstrap-datetimepicker.js\" type=\"text/javascript\"></script>\n",
       "<script charset=\"utf-8\" src=\"../../static/oscar/js/bootstrap-datetimepicker/locales/bootstrap-datetimepicker.all.js\" type=\"text/javascript\"></script>\n",
       "<script type=\"text/javascript\">\n",
       "            $(function() {\n",
       "                \n",
       "    \n",
       "    oscar.init();\n",
       "\n",
       "            });\n",
       "        </script>\n",
       "<!-- Version: N/A -->\n",
       "</body>\n",
       "</html>"
      ]
     },
     "execution_count": 6,
     "metadata": {},
     "output_type": "execute_result"
    }
   ],
   "source": [
    "response=requests.get(b1_url)\n",
    "data=BeautifulSoup(response.text,'html.parser')\n",
    "data"
   ]
  },
  {
   "cell_type": "code",
   "execution_count": 7,
   "id": "48d54ae7",
   "metadata": {},
   "outputs": [],
   "source": [
    "title=data.h1.string\n",
    "price=data.find(class_='price_color').string\n",
    "qty=data.find(class_='instock availability')\n",
    "qty=qty.contents[-1].strip()"
   ]
  },
  {
   "cell_type": "code",
   "execution_count": 8,
   "id": "6be68515",
   "metadata": {},
   "outputs": [
    {
     "name": "stdout",
     "output_type": "stream",
     "text": [
      "A Light in the Attic\n",
      "http://books.toscrape.com/catalogue/a-light-in-the-attic_1000/index.html\n",
      "Â£51.77\n",
      "In stock (22 available)\n"
     ]
    }
   ],
   "source": [
    "print(title)\n",
    "print(b1_url)\n",
    "print(price)\n",
    "print(qty)"
   ]
  },
  {
   "cell_type": "code",
   "execution_count": 9,
   "id": "2c7b3590",
   "metadata": {},
   "outputs": [],
   "source": [
    "import re\n",
    "qty=int(re.search('\\d+',qty).group())"
   ]
  },
  {
   "cell_type": "code",
   "execution_count": 10,
   "id": "c2e474ca",
   "metadata": {},
   "outputs": [],
   "source": [
    "price=float(re.search('[\\d.]+',price).group())"
   ]
  },
  {
   "cell_type": "code",
   "execution_count": 11,
   "id": "128be9d0",
   "metadata": {},
   "outputs": [
    {
     "name": "stdout",
     "output_type": "stream",
     "text": [
      "A Light in the Attic\n",
      "http://books.toscrape.com/catalogue/a-light-in-the-attic_1000/index.html\n",
      "51.77\n",
      "22\n"
     ]
    }
   ],
   "source": [
    "print(title)\n",
    "print(b1_url)\n",
    "print(price)\n",
    "print(qty)"
   ]
  },
  {
   "cell_type": "code",
   "execution_count": 12,
   "id": "b0569f31",
   "metadata": {},
   "outputs": [
    {
     "data": {
      "text/plain": [
       "[['A Light in the Attic',\n",
       "  'http://books.toscrape.com/catalogue/a-light-in-the-attic_1000/index.html',\n",
       "  51.77,\n",
       "  22]]"
      ]
     },
     "execution_count": 12,
     "metadata": {},
     "output_type": "execute_result"
    }
   ],
   "source": [
    "book_details=[]\n",
    "book_details.append([title,b1_url,price,qty])\n",
    "book_details"
   ]
  },
  {
   "cell_type": "code",
   "execution_count": 13,
   "id": "ea9720bc",
   "metadata": {},
   "outputs": [
    {
     "data": {
      "text/html": [
       "<div>\n",
       "<style scoped>\n",
       "    .dataframe tbody tr th:only-of-type {\n",
       "        vertical-align: middle;\n",
       "    }\n",
       "\n",
       "    .dataframe tbody tr th {\n",
       "        vertical-align: top;\n",
       "    }\n",
       "\n",
       "    .dataframe thead th {\n",
       "        text-align: right;\n",
       "    }\n",
       "</style>\n",
       "<table border=\"1\" class=\"dataframe\">\n",
       "  <thead>\n",
       "    <tr style=\"text-align: right;\">\n",
       "      <th></th>\n",
       "      <th>Title</th>\n",
       "      <th>Link</th>\n",
       "      <th>Price</th>\n",
       "      <th>Quantity in stock</th>\n",
       "    </tr>\n",
       "  </thead>\n",
       "  <tbody>\n",
       "    <tr>\n",
       "      <th>0</th>\n",
       "      <td>A Light in the Attic</td>\n",
       "      <td>http://books.toscrape.com/catalogue/a-light-in...</td>\n",
       "      <td>51.77</td>\n",
       "      <td>22</td>\n",
       "    </tr>\n",
       "  </tbody>\n",
       "</table>\n",
       "</div>"
      ],
      "text/plain": [
       "                  Title                                               Link   \n",
       "0  A Light in the Attic  http://books.toscrape.com/catalogue/a-light-in...  \\\n",
       "\n",
       "   Price  Quantity in stock  \n",
       "0  51.77                 22  "
      ]
     },
     "execution_count": 13,
     "metadata": {},
     "output_type": "execute_result"
    }
   ],
   "source": [
    "import pandas as pd\n",
    "df=pd.DataFrame(book_details,columns=['Title','Link','Price','Quantity in stock'])\n",
    "df"
   ]
  },
  {
   "cell_type": "code",
   "execution_count": 19,
   "id": "ef6077e8",
   "metadata": {},
   "outputs": [],
   "source": [
    "df.to_csv('books.csv',index=False)"
   ]
  },
  {
   "cell_type": "code",
   "execution_count": 20,
   "id": "044ad7a1",
   "metadata": {},
   "outputs": [],
   "source": [
    "book_details=[]"
   ]
  },
  {
   "cell_type": "code",
   "execution_count": 21,
   "id": "d07d11b0",
   "metadata": {},
   "outputs": [
    {
     "data": {
      "text/plain": [
       "[['A Light in the Attic',\n",
       "  'http://books.toscrape.com/catalogue/a-light-in-the-attic_1000/index.html',\n",
       "  51.77,\n",
       "  22]]"
      ]
     },
     "execution_count": 21,
     "metadata": {},
     "output_type": "execute_result"
    }
   ],
   "source": [
    "while response.status_code==200:\n",
    "    base_url='http://books.toscrape.com/'\n",
    "    b1_url=base_url+b1.h3.a['href']\n",
    "    response=requests.get(b1_url)\n",
    "    data=BeautifulSoup(response.text,'html.parser')\n",
    "    title=data.h1.string\n",
    "    price=data.find(class_='price_color').string\n",
    "    qty=data.find(class_='instock availability')\n",
    "    qty=qty.contents[-1].strip()\n",
    "    qty=int(re.search('\\d+',qty).group())\n",
    "    price=float(re.search('[\\d.]+',price).group())\n",
    "    book_details.append([title,b1_url,price,qty])\n",
    "    book_details"
   ]
  },
  {
   "cell_type": "code",
   "execution_count": null,
   "id": "b1c2d5e8",
   "metadata": {},
   "outputs": [],
   "source": []
  }
 ],
 "metadata": {
  "kernelspec": {
   "display_name": "Python 3 (ipykernel)",
   "language": "python",
   "name": "python3"
  },
  "language_info": {
   "codemirror_mode": {
    "name": "ipython",
    "version": 3
   },
   "file_extension": ".py",
   "mimetype": "text/x-python",
   "name": "python",
   "nbconvert_exporter": "python",
   "pygments_lexer": "ipython3",
   "version": "3.11.2"
  }
 },
 "nbformat": 4,
 "nbformat_minor": 5
}
