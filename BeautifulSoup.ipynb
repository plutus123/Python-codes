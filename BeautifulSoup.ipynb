{
 "cells": [
  {
   "cell_type": "code",
   "execution_count": 22,
   "id": "8f162673",
   "metadata": {},
   "outputs": [],
   "source": [
    "html='<!DOCTYPE html>\\\n",
    "<html>\\\n",
    "    <head>\\\n",
    "        <meta charset=\"utf-8\">\\\n",
    "        <title>contact details</title>\\\n",
    "    </head>\\\n",
    "    <body>\\\n",
    "     <h1>Contact Details</h1>\\\n",
    "     <ul>\\\n",
    "        <li>Name - Vishwas Mishra</li>\\\n",
    "        <li>Contact Number-8738030014</li>\\\n",
    "     </ul>\\\n",
    "    </body>\\\n",
    "</html> '"
   ]
  },
  {
   "cell_type": "code",
   "execution_count": 23,
   "id": "c1952b37",
   "metadata": {},
   "outputs": [
    {
     "data": {
      "text/plain": [
       "<!DOCTYPE html>\n",
       "<html> <head> <meta charset=\"utf-8\"/> <title>contact details</title> </head> <body> <h1>Contact Details</h1> <ul> <li>Name - Vishwas Mishra</li> <li>Contact Number-8738030014</li> </ul> </body></html> "
      ]
     },
     "execution_count": 23,
     "metadata": {},
     "output_type": "execute_result"
    }
   ],
   "source": [
    "from bs4 import BeautifulSoup\n",
    "data=BeautifulSoup(html,'html.parser')\n",
    "data"
   ]
  },
  {
   "cell_type": "code",
   "execution_count": 24,
   "id": "a4e01c44",
   "metadata": {},
   "outputs": [
    {
     "data": {
      "text/plain": [
       "bs4.BeautifulSoup"
      ]
     },
     "execution_count": 24,
     "metadata": {},
     "output_type": "execute_result"
    }
   ],
   "source": [
    "type(data)"
   ]
  },
  {
   "cell_type": "code",
   "execution_count": 26,
   "id": "5102d477",
   "metadata": {},
   "outputs": [
    {
     "name": "stdout",
     "output_type": "stream",
     "text": [
      "<!DOCTYPE html>\n",
      "<html>\n",
      " <head>\n",
      "  <meta charset=\"utf-8\"/>\n",
      "  <title>\n",
      "   contact details\n",
      "  </title>\n",
      " </head>\n",
      " <body>\n",
      "  <h1>\n",
      "   Contact Details\n",
      "  </h1>\n",
      "  <ul>\n",
      "   <li>\n",
      "    Name - Vishwas Mishra\n",
      "   </li>\n",
      "   <li>\n",
      "    Contact Number-8738030014\n",
      "   </li>\n",
      "  </ul>\n",
      " </body>\n",
      "</html>\n",
      "\n"
     ]
    }
   ],
   "source": [
    "print(data.prettify())"
   ]
  },
  {
   "cell_type": "code",
   "execution_count": 27,
   "id": "8ca6e678",
   "metadata": {},
   "outputs": [],
   "source": [
    "data.p"
   ]
  },
  {
   "cell_type": "code",
   "execution_count": 28,
   "id": "02527257",
   "metadata": {},
   "outputs": [
    {
     "data": {
      "text/plain": [
       "<head> <meta charset=\"utf-8\"/> <title>contact details</title> </head>"
      ]
     },
     "execution_count": 28,
     "metadata": {},
     "output_type": "execute_result"
    }
   ],
   "source": [
    "data.head"
   ]
  },
  {
   "cell_type": "code",
   "execution_count": 29,
   "id": "1b4e2551",
   "metadata": {},
   "outputs": [
    {
     "data": {
      "text/plain": [
       "<title>contact details</title>"
      ]
     },
     "execution_count": 29,
     "metadata": {},
     "output_type": "execute_result"
    }
   ],
   "source": [
    "data.title"
   ]
  },
  {
   "cell_type": "code",
   "execution_count": 32,
   "id": "5fc4525b",
   "metadata": {},
   "outputs": [
    {
     "data": {
      "text/plain": [
       "'   contact details   Contact Details  Name - Vishwas Mishra Contact Number-8738030014   '"
      ]
     },
     "execution_count": 32,
     "metadata": {},
     "output_type": "execute_result"
    }
   ],
   "source": [
    "data.get_text()"
   ]
  },
  {
   "cell_type": "code",
   "execution_count": 33,
   "id": "d0b667a3",
   "metadata": {},
   "outputs": [
    {
     "name": "stdout",
     "output_type": "stream",
     "text": [
      "   contact details   Contact Details  Name - Vishwas Mishra Contact Number-8738030014   \n"
     ]
    }
   ],
   "source": [
    "print(data.get_text())"
   ]
  },
  {
   "cell_type": "code",
   "execution_count": 35,
   "id": "01b3fd86",
   "metadata": {},
   "outputs": [
    {
     "name": "stdout",
     "output_type": "stream",
     "text": [
      "[<html> <head> <meta charset=\"utf-8\"/> <title>contact details</title> </head> <body> <h1>Contact Details</h1> <ul> <li>Name - Vishwas Mishra</li> <li>Contact Number-8738030014</li> </ul> </body></html>, <head> <meta charset=\"utf-8\"/> <title>contact details</title> </head>, <meta charset=\"utf-8\"/>, <title>contact details</title>, <body> <h1>Contact Details</h1> <ul> <li>Name - Vishwas Mishra</li> <li>Contact Number-8738030014</li> </ul> </body>, <h1>Contact Details</h1>, <ul> <li>Name - Vishwas Mishra</li> <li>Contact Number-8738030014</li> </ul>, <li>Name - Vishwas Mishra</li>, <li>Contact Number-8738030014</li>]\n"
     ]
    }
   ],
   "source": [
    "li=data.find_all(True)\n",
    "print(li)"
   ]
  },
  {
   "cell_type": "code",
   "execution_count": 40,
   "id": "906ee249",
   "metadata": {},
   "outputs": [
    {
     "name": "stdout",
     "output_type": "stream",
     "text": [
      "<generator object Tag._all_strings at 0x000001B596F19740>\n",
      "<generator object Tag._all_strings at 0x000001B596F19740>\n",
      "<generator object Tag._all_strings at 0x000001B596F19740>\n",
      "<generator object Tag._all_strings at 0x000001B596F19740>\n",
      "<generator object Tag._all_strings at 0x000001B596F19740>\n",
      "<generator object Tag._all_strings at 0x000001B596F19740>\n",
      "<generator object Tag._all_strings at 0x000001B596F19740>\n",
      "<generator object Tag._all_strings at 0x000001B596F19740>\n",
      "<generator object Tag._all_strings at 0x000001B596F19740>\n"
     ]
    }
   ],
   "source": [
    "for i in li:\n",
    "    print(i.strings)"
   ]
  },
  {
   "cell_type": "code",
   "execution_count": 41,
   "id": "cf1e9473",
   "metadata": {},
   "outputs": [
    {
     "name": "stdout",
     "output_type": "stream",
     "text": [
      "[' ', ' ', ' ', 'contact details', ' ', ' ', ' ', 'Contact Details', ' ', ' ', 'Name - Vishwas Mishra', ' ', 'Contact Number-8738030014', ' ', ' ']\n",
      "[' ', ' ', 'contact details', ' ']\n",
      "[]\n",
      "['contact details']\n",
      "[' ', 'Contact Details', ' ', ' ', 'Name - Vishwas Mishra', ' ', 'Contact Number-8738030014', ' ', ' ']\n",
      "['Contact Details']\n",
      "[' ', 'Name - Vishwas Mishra', ' ', 'Contact Number-8738030014', ' ']\n",
      "['Name - Vishwas Mishra']\n",
      "['Contact Number-8738030014']\n"
     ]
    }
   ],
   "source": [
    "for i in li:\n",
    "    print(list(i.strings))"
   ]
  },
  {
   "cell_type": "code",
   "execution_count": 44,
   "id": "1e841d93",
   "metadata": {},
   "outputs": [
    {
     "name": "stdout",
     "output_type": "stream",
     "text": [
      "['contact details', 'Contact Details', 'Name - Vishwas Mishra', 'Contact Number-8738030014']\n",
      "['contact details']\n",
      "[]\n",
      "['contact details']\n",
      "['Contact Details', 'Name - Vishwas Mishra', 'Contact Number-8738030014']\n",
      "['Contact Details']\n",
      "['Name - Vishwas Mishra', 'Contact Number-8738030014']\n",
      "['Name - Vishwas Mishra']\n",
      "['Contact Number-8738030014']\n"
     ]
    }
   ],
   "source": [
    "for i in li:\n",
    "    print(list(i.stripped_strings))"
   ]
  },
  {
   "cell_type": "code",
   "execution_count": null,
   "id": "cff0a8ec",
   "metadata": {},
   "outputs": [],
   "source": []
  }
 ],
 "metadata": {
  "kernelspec": {
   "display_name": "Python 3 (ipykernel)",
   "language": "python",
   "name": "python3"
  },
  "language_info": {
   "codemirror_mode": {
    "name": "ipython",
    "version": 3
   },
   "file_extension": ".py",
   "mimetype": "text/x-python",
   "name": "python",
   "nbconvert_exporter": "python",
   "pygments_lexer": "ipython3",
   "version": "3.11.2"
  }
 },
 "nbformat": 4,
 "nbformat_minor": 5
}
